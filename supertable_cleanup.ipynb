{
 "cells": [
  {
   "cell_type": "code",
   "execution_count": 54,
   "id": "748d536d",
   "metadata": {},
   "outputs": [],
   "source": [
    "# import packages\n",
    "import numpy as np\n",
    "import pandas as pd\n",
    "import re\n",
    "from matplotlib import pyplot as plt"
   ]
  },
  {
   "cell_type": "code",
   "execution_count": 55,
   "id": "e2fae7dc",
   "metadata": {},
   "outputs": [],
   "source": [
    "# set project name (used later in naming plots)\n",
    "project_name = 'rtsb17-22'"
   ]
  },
  {
   "cell_type": "code",
   "execution_count": 56,
   "id": "eb39f116",
   "metadata": {},
   "outputs": [
    {
     "data": {
      "text/html": [
       "<div>\n",
       "<style scoped>\n",
       "    .dataframe tbody tr th:only-of-type {\n",
       "        vertical-align: middle;\n",
       "    }\n",
       "\n",
       "    .dataframe tbody tr th {\n",
       "        vertical-align: top;\n",
       "    }\n",
       "\n",
       "    .dataframe thead th {\n",
       "        text-align: right;\n",
       "    }\n",
       "</style>\n",
       "<table border=\"1\" class=\"dataframe\">\n",
       "  <thead>\n",
       "    <tr style=\"text-align: right;\">\n",
       "      <th></th>\n",
       "      <th>ID_loc</th>\n",
       "      <th>family</th>\n",
       "      <th>genus</th>\n",
       "      <th>species_s</th>\n",
       "      <th>female</th>\n",
       "      <th>male</th>\n",
       "      <th>subadult</th>\n",
       "      <th>juv</th>\n",
       "      <th>comment</th>\n",
       "    </tr>\n",
       "  </thead>\n",
       "  <tbody>\n",
       "    <tr>\n",
       "      <th>0</th>\n",
       "      <td>RTSB22-01</td>\n",
       "      <td>Linyphiidae</td>\n",
       "      <td>Agyneta</td>\n",
       "      <td>sp.</td>\n",
       "      <td>NaN</td>\n",
       "      <td>1.0</td>\n",
       "      <td>NaN</td>\n",
       "      <td>NaN</td>\n",
       "      <td>ckeck</td>\n",
       "    </tr>\n",
       "    <tr>\n",
       "      <th>1</th>\n",
       "      <td>RTSB22-01</td>\n",
       "      <td>Linyphiidae</td>\n",
       "      <td>Agyneta</td>\n",
       "      <td>fuscipalpa</td>\n",
       "      <td>1.0</td>\n",
       "      <td>NaN</td>\n",
       "      <td>NaN</td>\n",
       "      <td>NaN</td>\n",
       "      <td>NaN</td>\n",
       "    </tr>\n",
       "    <tr>\n",
       "      <th>2</th>\n",
       "      <td>RTSB22-01</td>\n",
       "      <td>Araneidae</td>\n",
       "      <td>Araneus</td>\n",
       "      <td>cf. diadematus</td>\n",
       "      <td>NaN</td>\n",
       "      <td>NaN</td>\n",
       "      <td>NaN</td>\n",
       "      <td>1.0</td>\n",
       "      <td>NaN</td>\n",
       "    </tr>\n",
       "    <tr>\n",
       "      <th>3</th>\n",
       "      <td>RTSB22-01</td>\n",
       "      <td>Dictynidae</td>\n",
       "      <td>Brigittea</td>\n",
       "      <td>civica</td>\n",
       "      <td>2.0</td>\n",
       "      <td>1.0</td>\n",
       "      <td>NaN</td>\n",
       "      <td>NaN</td>\n",
       "      <td>NaN</td>\n",
       "    </tr>\n",
       "    <tr>\n",
       "      <th>4</th>\n",
       "      <td>RTSB22-01</td>\n",
       "      <td>Clubionidae</td>\n",
       "      <td>Clubiona</td>\n",
       "      <td>sp.</td>\n",
       "      <td>NaN</td>\n",
       "      <td>NaN</td>\n",
       "      <td>NaN</td>\n",
       "      <td>1.0</td>\n",
       "      <td>NaN</td>\n",
       "    </tr>\n",
       "  </tbody>\n",
       "</table>\n",
       "</div>"
      ],
      "text/plain": [
       "      ID_loc       family      genus       species_s  female  male subadult  \\\n",
       "0  RTSB22-01  Linyphiidae    Agyneta             sp.     NaN   1.0      NaN   \n",
       "1  RTSB22-01  Linyphiidae    Agyneta      fuscipalpa     1.0   NaN      NaN   \n",
       "2  RTSB22-01    Araneidae    Araneus  cf. diadematus     NaN   NaN      NaN   \n",
       "3  RTSB22-01   Dictynidae  Brigittea          civica     2.0   1.0      NaN   \n",
       "4  RTSB22-01  Clubionidae   Clubiona             sp.     NaN   NaN      NaN   \n",
       "\n",
       "   juv comment  \n",
       "0  NaN   ckeck  \n",
       "1  NaN     NaN  \n",
       "2  1.0     NaN  \n",
       "3  NaN     NaN  \n",
       "4  1.0     NaN  "
      ]
     },
     "execution_count": 56,
     "metadata": {},
     "output_type": "execute_result"
    }
   ],
   "source": [
    "# set gid to the sheet numer (found in url), change 'edit#'' to 'export?' and add 'format=csv'\n",
    "\n",
    "gid = 0\n",
    "\n",
    "url=f\"https://docs.google.com/spreadsheets/d/1B91sUml5rqbK_XRj97_s2isHP50vffmU4iDprRKBkJA/export?gid={gid}&format=csv\"\n",
    "\n",
    "df = pd.read_csv(url)\n",
    "\n",
    "df.head()"
   ]
  },
  {
   "cell_type": "code",
   "execution_count": 57,
   "id": "22b84030",
   "metadata": {
    "scrolled": true
   },
   "outputs": [
    {
     "data": {
      "text/plain": [
       "ID_loc        object\n",
       "family        object\n",
       "genus         object\n",
       "species_s     object\n",
       "female       float64\n",
       "male         float64\n",
       "subadult      object\n",
       "juv          float64\n",
       "comment       object\n",
       "dtype: object"
      ]
     },
     "execution_count": 57,
     "metadata": {},
     "output_type": "execute_result"
    }
   ],
   "source": [
    "df.dtypes"
   ]
  },
  {
   "cell_type": "code",
   "execution_count": 59,
   "id": "c6867f39",
   "metadata": {},
   "outputs": [],
   "source": [
    "# strip\n",
    "df.family = df.family.str.strip()\n",
    "df.genus = df.genus.str.strip()\n",
    "df.species_s = df.species_s.str.strip()"
   ]
  },
  {
   "cell_type": "code",
   "execution_count": null,
   "id": "71c1ba2c",
   "metadata": {},
   "outputs": [],
   "source": [
    "df.male.unique()"
   ]
  },
  {
   "cell_type": "code",
   "execution_count": null,
   "id": "e615aec0",
   "metadata": {},
   "outputs": [],
   "source": [
    "df.query('male == \"\"')"
   ]
  },
  {
   "cell_type": "code",
   "execution_count": null,
   "id": "3ac72ed0",
   "metadata": {},
   "outputs": [],
   "source": [
    "df['male'].value_counts(dropna=False)"
   ]
  },
  {
   "cell_type": "code",
   "execution_count": null,
   "id": "a66b421a",
   "metadata": {},
   "outputs": [],
   "source": [
    "df.replace(r'^\\s*$', np.nan, regex=True)"
   ]
  },
  {
   "cell_type": "code",
   "execution_count": 60,
   "id": "aac59180",
   "metadata": {},
   "outputs": [],
   "source": [
    "# change column types\n",
    "df.female = df.female.astype(\"float32\")\n",
    "df.male = df.male.astype(\"float32\")\n",
    "df.family = df.family.astype(\"string\")\n",
    "df.genus = df.genus.astype(\"string\")\n",
    "df.species_s = df.species_s.astype(\"string\")"
   ]
  },
  {
   "cell_type": "code",
   "execution_count": 61,
   "id": "c2d42087",
   "metadata": {},
   "outputs": [
    {
     "data": {
      "text/plain": [
       "ID_loc        object\n",
       "family        string\n",
       "genus         string\n",
       "species_s     string\n",
       "female       float32\n",
       "male         float32\n",
       "subadult      object\n",
       "juv          float64\n",
       "comment       object\n",
       "dtype: object"
      ]
     },
     "execution_count": 61,
     "metadata": {},
     "output_type": "execute_result"
    }
   ],
   "source": [
    "df.dtypes"
   ]
  },
  {
   "cell_type": "code",
   "execution_count": null,
   "id": "11002532",
   "metadata": {},
   "outputs": [],
   "source": []
  }
 ],
 "metadata": {
  "kernelspec": {
   "display_name": "Python 3 (ipykernel)",
   "language": "python",
   "name": "python3"
  },
  "language_info": {
   "codemirror_mode": {
    "name": "ipython",
    "version": 3
   },
   "file_extension": ".py",
   "mimetype": "text/x-python",
   "name": "python",
   "nbconvert_exporter": "python",
   "pygments_lexer": "ipython3",
   "version": "3.9.12"
  }
 },
 "nbformat": 4,
 "nbformat_minor": 5
}
