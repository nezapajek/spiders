{
 "cells": [
  {
   "cell_type": "code",
   "execution_count": 360,
   "id": "2ff9a87c",
   "metadata": {},
   "outputs": [],
   "source": [
    "# import packages\n",
    "import numpy as np\n",
    "import pandas as pd\n",
    "from gsheets import Sheets"
   ]
  },
  {
   "cell_type": "code",
   "execution_count": 361,
   "id": "919dcfd1",
   "metadata": {},
   "outputs": [],
   "source": [
    "sheets = Sheets.from_files('client_secret.json', '~/storage.json')\n",
    "url = 'https://docs.google.com/spreadsheets/d/1HyxulsjlOkI5Ike5KlcrEgik5Y6_XY_wVcKP6Y-eMpM/edit#gid=232218977'\n",
    "s = sheets.get(url)"
   ]
  },
  {
   "cell_type": "code",
   "execution_count": 362,
   "id": "e71c33b7",
   "metadata": {},
   "outputs": [],
   "source": [
    "s.sheets[0].to_csv(make_filename=\"sheet1.csv\")\n",
    "df = pd.read_csv('sheet1.csv')\n",
    "df.female = df.female.astype(\"float32\")\n",
    "df.male = df.male.astype(\"float32\")\n"
   ]
  },
  {
   "cell_type": "code",
   "execution_count": 363,
   "id": "35a06da7",
   "metadata": {},
   "outputs": [
    {
     "data": {
      "text/plain": [
       "['Agelenidae',\n",
       " 'Araneidae',\n",
       " 'Atypidae',\n",
       " 'Cheirachantiidae',\n",
       " 'Clubionidae',\n",
       " 'Dictynidae',\n",
       " 'Gnaphosidae',\n",
       " 'Linyphiidae',\n",
       " 'Lycosidae',\n",
       " 'Mimetidae',\n",
       " 'Miturgidae',\n",
       " 'Oxyopidae',\n",
       " 'Philodromidae',\n",
       " 'Pholcidae',\n",
       " 'Phrurolithidae',\n",
       " 'Pisauridae',\n",
       " 'Salticidae',\n",
       " 'Segestriidae',\n",
       " 'Tetragnathidae',\n",
       " 'Theridiidae',\n",
       " 'Thomisidae',\n",
       " 'Uloboridae',\n",
       " 'Zodariidae']"
      ]
     },
     "execution_count": 363,
     "metadata": {},
     "output_type": "execute_result"
    }
   ],
   "source": [
    "# check typos\n",
    "df.Druzina.drop_duplicates().sort_values().tolist()"
   ]
  },
  {
   "cell_type": "code",
   "execution_count": 364,
   "id": "b342d20e",
   "metadata": {},
   "outputs": [
    {
     "data": {
      "text/plain": [
       "['Agelena',\n",
       " 'Agyneta',\n",
       " 'Allagelena',\n",
       " 'Araneus',\n",
       " 'Arctosa',\n",
       " 'Argiope',\n",
       " 'Attulus',\n",
       " 'Atypus',\n",
       " 'Ballus',\n",
       " 'Bathyphantes',\n",
       " 'Brigittea',\n",
       " 'Cheiracanthium',\n",
       " 'Clubiona',\n",
       " 'Diplostyla',\n",
       " 'Dolomedes',\n",
       " 'Enoplognatha',\n",
       " 'Erigone',\n",
       " 'Ero',\n",
       " 'Euryopis',\n",
       " 'Evarcha',\n",
       " 'Floronia',\n",
       " 'Frontinellina',\n",
       " 'Gibbaranea',\n",
       " 'Heliophanus',\n",
       " 'Hogna',\n",
       " 'Holocnemus',\n",
       " 'Hylyphantes',\n",
       " 'Hypsosinga',\n",
       " 'Hyptiotes',\n",
       " 'Larinioides',\n",
       " 'Leviellus',\n",
       " 'Linyphia',\n",
       " 'Mangora',\n",
       " 'Marpissa',\n",
       " 'Mendoza',\n",
       " 'Mermesus',\n",
       " 'Meta',\n",
       " 'Metellina',\n",
       " 'Microneta',\n",
       " 'Misumena',\n",
       " 'Neon',\n",
       " 'Neriene',\n",
       " 'Nuctenea',\n",
       " 'Oxyopes',\n",
       " 'Ozyptila',\n",
       " 'Palliduphantes',\n",
       " 'Panamomops',\n",
       " 'Parasteatoda',\n",
       " 'Pardosa',\n",
       " 'Philodromus',\n",
       " 'Pholcus',\n",
       " 'Phrurolithus',\n",
       " 'Phylloneta',\n",
       " 'Pirata',\n",
       " 'Piratula',\n",
       " 'Pisaura',\n",
       " 'Porrhomma',\n",
       " 'Scotophaeus',\n",
       " 'Segestria',\n",
       " 'Steatoda',\n",
       " 'Synema',\n",
       " 'Tegenaria',\n",
       " 'Tenuiphantes',\n",
       " 'Tetragnatha',\n",
       " 'Theridion',\n",
       " 'Tibellus',\n",
       " 'Tmarus',\n",
       " 'Trochosa',\n",
       " 'Walckenaria',\n",
       " 'Xerolycosa',\n",
       " 'Xysticus',\n",
       " 'Zelotes',\n",
       " 'Zodarion',\n",
       " 'Zora',\n",
       " 'Zygiella',\n",
       " nan]"
      ]
     },
     "execution_count": 364,
     "metadata": {},
     "output_type": "execute_result"
    }
   ],
   "source": [
    "# check typos\n",
    "df.Rod.drop_duplicates().sort_values().tolist()"
   ]
  },
  {
   "cell_type": "code",
   "execution_count": 365,
   "id": "ad79a428",
   "metadata": {},
   "outputs": [],
   "source": [
    "def clean_wrt_species(df):\n",
    "    df[\"Vrsta\"] = df[\"Vrsta\"].fillna(\"sp.\")\n",
    "    species_filter = \"not Vrsta.str.startswith('sp.') and not Vrsta.str.startswith('cf.')\"\n",
    "    df.query(species_filter, inplace=True)\n",
    "    return df"
   ]
  },
  {
   "cell_type": "code",
   "execution_count": 366,
   "id": "1cff23b4",
   "metadata": {},
   "outputs": [],
   "source": [
    "def spider_stats(df):\n",
    "    family_no = df.Druzina.nunique() \n",
    "    genus_no = df.Rod.nunique()    \n",
    "    species_no = df[[\"Rod\", \"Vrsta\"]].drop_duplicates().shape[0]\n",
    "    print(f'{family_no} družin, {genus_no} rodov, {species_no} vrst')"
   ]
  },
  {
   "cell_type": "code",
   "execution_count": 367,
   "id": "d01b8090",
   "metadata": {},
   "outputs": [
    {
     "name": "stdout",
     "output_type": "stream",
     "text": [
      "17 družin, 57 rodov, 80 vrst\n"
     ]
    }
   ],
   "source": [
    "clean_df = clean_wrt_species(df)\n",
    "spider_stats(clean_df)"
   ]
  },
  {
   "cell_type": "code",
   "execution_count": 372,
   "id": "dd06d90a",
   "metadata": {},
   "outputs": [
    {
     "data": {
      "text/html": [
       "<div>\n",
       "<style scoped>\n",
       "    .dataframe tbody tr th:only-of-type {\n",
       "        vertical-align: middle;\n",
       "    }\n",
       "\n",
       "    .dataframe tbody tr th {\n",
       "        vertical-align: top;\n",
       "    }\n",
       "\n",
       "    .dataframe thead th {\n",
       "        text-align: right;\n",
       "    }\n",
       "</style>\n",
       "<table border=\"1\" class=\"dataframe\">\n",
       "  <thead>\n",
       "    <tr style=\"text-align: right;\">\n",
       "      <th></th>\n",
       "      <th>Druzina</th>\n",
       "      <th>Rod</th>\n",
       "      <th>Vrsta</th>\n",
       "      <th>lokalitete</th>\n",
       "    </tr>\n",
       "  </thead>\n",
       "  <tbody>\n",
       "    <tr>\n",
       "      <th>0</th>\n",
       "      <td>Agelenidae</td>\n",
       "      <td>Agelena</td>\n",
       "      <td>labyrinthica</td>\n",
       "      <td>RTSB22-02 (2F), RTSB22-12 (1F), RTSB22-13 (1F)...</td>\n",
       "    </tr>\n",
       "    <tr>\n",
       "      <th>1</th>\n",
       "      <td>Agelenidae</td>\n",
       "      <td>Allagelena</td>\n",
       "      <td>gracilens</td>\n",
       "      <td>RTSB22-02 (2M), RTSB22-16 (1F), RTSB22-21 (1M)</td>\n",
       "    </tr>\n",
       "    <tr>\n",
       "      <th>2</th>\n",
       "      <td>Araneidae</td>\n",
       "      <td>Araneus</td>\n",
       "      <td>angulatus</td>\n",
       "      <td>RTSB22-21 (1F)</td>\n",
       "    </tr>\n",
       "    <tr>\n",
       "      <th>3</th>\n",
       "      <td>Araneidae</td>\n",
       "      <td>Araneus</td>\n",
       "      <td>diadematus</td>\n",
       "      <td>RTSB22-28 (1M)</td>\n",
       "    </tr>\n",
       "    <tr>\n",
       "      <th>4</th>\n",
       "      <td>Araneidae</td>\n",
       "      <td>Araneus</td>\n",
       "      <td>marmoreus</td>\n",
       "      <td>RTSB22-02 (1F), RTSB22-15 (1F)</td>\n",
       "    </tr>\n",
       "    <tr>\n",
       "      <th>...</th>\n",
       "      <td>...</td>\n",
       "      <td>...</td>\n",
       "      <td>...</td>\n",
       "      <td>...</td>\n",
       "    </tr>\n",
       "    <tr>\n",
       "      <th>75</th>\n",
       "      <td>Theridiidae</td>\n",
       "      <td>Theridion</td>\n",
       "      <td>pinastri</td>\n",
       "      <td>RTSB22-01 (1F)</td>\n",
       "    </tr>\n",
       "    <tr>\n",
       "      <th>76</th>\n",
       "      <td>Thomisidae</td>\n",
       "      <td>Misumena</td>\n",
       "      <td>vatia</td>\n",
       "      <td>RTSB22-02 (2M), RTSB22-07 (4M), RTSB22-10 (1M)...</td>\n",
       "    </tr>\n",
       "    <tr>\n",
       "      <th>77</th>\n",
       "      <td>Thomisidae</td>\n",
       "      <td>Ozyptila</td>\n",
       "      <td>praticola</td>\n",
       "      <td>RTSB22-18 (1F)</td>\n",
       "    </tr>\n",
       "    <tr>\n",
       "      <th>78</th>\n",
       "      <td>Thomisidae</td>\n",
       "      <td>Synema</td>\n",
       "      <td>globosum</td>\n",
       "      <td>RTSB22-07 (1F)</td>\n",
       "    </tr>\n",
       "    <tr>\n",
       "      <th>79</th>\n",
       "      <td>Zodariidae</td>\n",
       "      <td>Zodarion</td>\n",
       "      <td>rubidum</td>\n",
       "      <td>RTSB22-01 (1F, 2M), RTSB22-07 (1F), RTSB22-33 ...</td>\n",
       "    </tr>\n",
       "  </tbody>\n",
       "</table>\n",
       "<p>80 rows × 4 columns</p>\n",
       "</div>"
      ],
      "text/plain": [
       "        Druzina         Rod         Vrsta  \\\n",
       "0    Agelenidae     Agelena  labyrinthica   \n",
       "1    Agelenidae  Allagelena     gracilens   \n",
       "2     Araneidae     Araneus     angulatus   \n",
       "3     Araneidae     Araneus    diadematus   \n",
       "4     Araneidae     Araneus     marmoreus   \n",
       "..          ...         ...           ...   \n",
       "75  Theridiidae   Theridion      pinastri   \n",
       "76   Thomisidae    Misumena         vatia   \n",
       "77   Thomisidae    Ozyptila     praticola   \n",
       "78   Thomisidae      Synema      globosum   \n",
       "79   Zodariidae    Zodarion       rubidum   \n",
       "\n",
       "                                           lokalitete  \n",
       "0   RTSB22-02 (2F), RTSB22-12 (1F), RTSB22-13 (1F)...  \n",
       "1      RTSB22-02 (2M), RTSB22-16 (1F), RTSB22-21 (1M)  \n",
       "2                                      RTSB22-21 (1F)  \n",
       "3                                      RTSB22-28 (1M)  \n",
       "4                      RTSB22-02 (1F), RTSB22-15 (1F)  \n",
       "..                                                ...  \n",
       "75                                     RTSB22-01 (1F)  \n",
       "76  RTSB22-02 (2M), RTSB22-07 (4M), RTSB22-10 (1M)...  \n",
       "77                                     RTSB22-18 (1F)  \n",
       "78                                     RTSB22-07 (1F)  \n",
       "79  RTSB22-01 (1F, 2M), RTSB22-07 (1F), RTSB22-33 ...  \n",
       "\n",
       "[80 rows x 4 columns]"
      ]
     },
     "execution_count": 372,
     "metadata": {},
     "output_type": "execute_result"
    }
   ],
   "source": [
    "def make_etiquette(df):\n",
    "    \n",
    "    results = []\n",
    "    for _, row in df.iterrows():    \n",
    "        gender_elements = []\n",
    "        if not np.isnan(row.female):\n",
    "            gender_elements.append(f\"{int(row.female)}F\")\n",
    "\n",
    "        if not np.isnan(row.male):\n",
    "            gender_elements.append(f\"{int(row.male)}M\")\n",
    "\n",
    "        results.append(f'{row.etiketa} ({\", \".join(gender_elements)})')\n",
    "    return \", \".join(results)\n",
    "\n",
    "\n",
    "ser = clean_df.groupby([\"Druzina\", \"Rod\", \"Vrsta\"]).apply(make_etiquette)\n",
    "ser.name = 'lokalitete'\n",
    "ndf = ser.reset_index()\n",
    "\n",
    "ndf"
   ]
  },
  {
   "cell_type": "code",
   "execution_count": null,
   "id": "9348befb",
   "metadata": {},
   "outputs": [],
   "source": [
    "# check for no M,F content\n",
    "mask = [\"()\" in lok for lok in ndf.lokalitete]\n",
    "ndf.loc[mask]"
   ]
  },
  {
   "cell_type": "code",
   "execution_count": 369,
   "id": "6c9c6229",
   "metadata": {},
   "outputs": [],
   "source": [
    "rv_vals = [\" \".join(x) for x in clean_df[[\"Rod\", \"Vrsta\"]].drop_duplicates().values]\n",
    "drv_vals = [\" \".join(x[1:]) for x in clean_df[[\"Druzina\", \"Rod\", \"Vrsta\"]].drop_duplicates().values]"
   ]
  },
  {
   "cell_type": "code",
   "execution_count": 370,
   "id": "45977bf3",
   "metadata": {},
   "outputs": [],
   "source": [
    "v1, c1 = np.unique(rv_vals, return_counts=True)\n",
    "v2, c2 = np.unique(drv_vals, return_counts=True)"
   ]
  },
  {
   "cell_type": "code",
   "execution_count": 371,
   "id": "73fd4ac5",
   "metadata": {},
   "outputs": [
    {
     "data": {
      "text/plain": [
       "Series([], dtype: int64)"
      ]
     },
     "execution_count": 371,
     "metadata": {},
     "output_type": "execute_result"
    }
   ],
   "source": [
    "mask = (clean_df.Rod + \" \" + clean_df.Vrsta).isin(v1[np.where(c1 != c2)[0]])\n",
    "clean_df.loc[mask][[\"Druzina\", \"Rod\", \"Vrsta\"]].value_counts()"
   ]
  },
  {
   "cell_type": "code",
   "execution_count": 373,
   "id": "b3f3b7c9",
   "metadata": {},
   "outputs": [],
   "source": [
    "# write ndf in new tab of Google Sheet file"
   ]
  },
  {
   "cell_type": "code",
   "execution_count": null,
   "id": "6c378aed",
   "metadata": {},
   "outputs": [],
   "source": []
  }
 ],
 "metadata": {
  "kernelspec": {
   "display_name": "Python 3 (ipykernel)",
   "language": "python",
   "name": "python3"
  },
  "language_info": {
   "codemirror_mode": {
    "name": "ipython",
    "version": 3
   },
   "file_extension": ".py",
   "mimetype": "text/x-python",
   "name": "python",
   "nbconvert_exporter": "python",
   "pygments_lexer": "ipython3",
   "version": "3.9.12"
  }
 },
 "nbformat": 4,
 "nbformat_minor": 5
}
